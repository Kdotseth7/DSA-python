{
 "cells": [
  {
   "cell_type": "code",
   "execution_count": null,
   "id": "09eeb783",
   "metadata": {},
   "outputs": [],
   "source": [
    "# 1. Input: \"nittin\", Output: true\n",
    "# 2. Input: \"12321\", Output: true\n",
    "# 3. Input: \"tintin\", Output: false"
   ]
  },
  {
   "cell_type": "code",
   "execution_count": 15,
   "id": "ffa7212c",
   "metadata": {},
   "outputs": [],
   "source": [
    "def is_palindrome(text):\n",
    "    text = list(text)\n",
    "    length = len(text)\n",
    "    j = length - 1\n",
    "    flag = True\n",
    "    for i in range(int(length/2)):\n",
    "        if(text[i] != text[j]):\n",
    "            flag = False\n",
    "            break\n",
    "        j -=1\n",
    "    return flag"
   ]
  },
  {
   "cell_type": "code",
   "execution_count": 20,
   "id": "c8978983",
   "metadata": {},
   "outputs": [
    {
     "name": "stdout",
     "output_type": "stream",
     "text": [
      "True\n",
      "True\n",
      "False\n"
     ]
    }
   ],
   "source": [
    "print(is_palindrome('nittin'))\n",
    "print(is_palindrome('12321'))\n",
    "print(is_palindrome('tintin'))"
   ]
  }
 ],
 "metadata": {
  "kernelspec": {
   "display_name": "Python 3 (ipykernel)",
   "language": "python",
   "name": "python3"
  },
  "language_info": {
   "codemirror_mode": {
    "name": "ipython",
    "version": 3
   },
   "file_extension": ".py",
   "mimetype": "text/x-python",
   "name": "python",
   "nbconvert_exporter": "python",
   "pygments_lexer": "ipython3",
   "version": "3.10.8"
  }
 },
 "nbformat": 4,
 "nbformat_minor": 5
}
