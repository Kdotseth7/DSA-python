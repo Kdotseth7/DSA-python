{
 "cells": [
  {
   "cell_type": "code",
   "execution_count": null,
   "id": "7f3823c4",
   "metadata": {},
   "outputs": [],
   "source": [
    "# Input: \"Hello How Are You\"\n",
    "# Output: \"hELLO hOW aRE yOU\"\n",
    "\n",
    "# toLowerCase() and toUpperCase() methods don't alter original string but return a new a string"
   ]
  },
  {
   "cell_type": "code",
   "execution_count": 14,
   "id": "edcefb52",
   "metadata": {},
   "outputs": [],
   "source": [
    "def toggle(text):\n",
    "    text = list(text)\n",
    "    for i in range(len(text)):\n",
    "        if(text[i].islower()):\n",
    "            text[i] = text[i].upper()\n",
    "        else:\n",
    "            text[i] = text[i].lower()\n",
    "    return ''.join(text)"
   ]
  },
  {
   "cell_type": "code",
   "execution_count": 12,
   "id": "6a851bef",
   "metadata": {},
   "outputs": [
    {
     "name": "stdout",
     "output_type": "stream",
     "text": [
      "hELLO hOW aRE yOU\n"
     ]
    }
   ],
   "source": [
    "print(toggle('Hello How Are You'))\n",
    "# TC = O(n)\n",
    "# SC = O(1)"
   ]
  }
 ],
 "metadata": {
  "kernelspec": {
   "display_name": "Python 3 (ipykernel)",
   "language": "python",
   "name": "python3"
  },
  "language_info": {
   "codemirror_mode": {
    "name": "ipython",
    "version": 3
   },
   "file_extension": ".py",
   "mimetype": "text/x-python",
   "name": "python",
   "nbconvert_exporter": "python",
   "pygments_lexer": "ipython3",
   "version": "3.10.8"
  }
 },
 "nbformat": 4,
 "nbformat_minor": 5
}
