{
 "cells": [
  {
   "cell_type": "code",
   "execution_count": null,
   "id": "cf97bd14",
   "metadata": {},
   "outputs": [],
   "source": [
    "# String Compression / Run Length Encoding\n",
    "# Input: 'a', Output: 'a1'\n",
    "# Input: 'aabcd', Output: 'a2b1c1d1'\n",
    "# Input: 'vvvVVVVbaagggGhhhjda', Output: 'v3V4b1a2g3G1h3j1d1a1'"
   ]
  },
  {
   "cell_type": "code",
   "execution_count": 49,
   "id": "8577c0b5",
   "metadata": {},
   "outputs": [],
   "source": [
    "def string_compression(text):\n",
    "    compressed = ''\n",
    "    counter = 1\n",
    "    for i in range(length := len(text)):\n",
    "        next_index = i + 1\n",
    "        if(next_index < length):    \n",
    "            if(text[i] == text[next_index]):\n",
    "                counter += 1\n",
    "            else:\n",
    "                compressed += text[i] + str(counter)\n",
    "                counter = 1\n",
    "        else:\n",
    "            compressed += text[i] + str(counter)\n",
    "    return compressed"
   ]
  },
  {
   "cell_type": "code",
   "execution_count": 50,
   "id": "70c2623b",
   "metadata": {},
   "outputs": [
    {
     "name": "stdout",
     "output_type": "stream",
     "text": [
      "a1\n",
      "a2b1c1d1\n",
      "v3V4b1a2g3G1h3j1d1a1\n"
     ]
    }
   ],
   "source": [
    "print(string_compression('a'))\n",
    "print(string_compression('aabcd'))\n",
    "print(string_compression('vvvVVVVbaagggGhhhjda'))"
   ]
  }
 ],
 "metadata": {
  "kernelspec": {
   "display_name": "Python 3 (ipykernel)",
   "language": "python",
   "name": "python3"
  },
  "language_info": {
   "codemirror_mode": {
    "name": "ipython",
    "version": 3
   },
   "file_extension": ".py",
   "mimetype": "text/x-python",
   "name": "python",
   "nbconvert_exporter": "python",
   "pygments_lexer": "ipython3",
   "version": "3.10.8"
  }
 },
 "nbformat": 4,
 "nbformat_minor": 5
}
