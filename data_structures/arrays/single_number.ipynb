{
 "cells": [
  {
   "cell_type": "code",
   "execution_count": 1,
   "id": "ab0099e2",
   "metadata": {},
   "outputs": [],
   "source": [
    "# Given a non-empty array of integers, every element appears twice except for one. Find that single one.\n",
    "# Note: Your algorithm should have a linear runtime complexity. Could you implement it without using extra memory?\n",
    "\n",
    "# Example 1:\n",
    "# Input: [2,2,1]\n",
    "# Output: 1\n",
    "\n",
    "# Example 2:\n",
    "# Input: [4,1,2,1,2]\n",
    "# Output: 4"
   ]
  },
  {
   "cell_type": "code",
   "execution_count": 27,
   "id": "4e011697",
   "metadata": {},
   "outputs": [],
   "source": [
    "# Using Hash-Map\n",
    "def single_number(arr):\n",
    "    hashmap = dict()\n",
    "    for num in arr:\n",
    "        if num in hashmap.keys():\n",
    "            hashmap[num] += 1\n",
    "        else:\n",
    "            hashmap[num] = 1\n",
    "    for key in hashmap.keys():\n",
    "        if(hashmap[key] == 1):\n",
    "            return key\n",
    "    return 0"
   ]
  },
  {
   "cell_type": "code",
   "execution_count": 28,
   "id": "f75a49e4",
   "metadata": {},
   "outputs": [
    {
     "name": "stdout",
     "output_type": "stream",
     "text": [
      "1\n",
      "4\n",
      "0\n"
     ]
    }
   ],
   "source": [
    "print(single_number([2,2,1]))\n",
    "print(single_number([4,1,2,1,2]))\n",
    "print(single_number([4,1,2,1,2,7,7,4]))"
   ]
  },
  {
   "cell_type": "code",
   "execution_count": 30,
   "id": "1cb3f35b",
   "metadata": {},
   "outputs": [],
   "source": [
    "# Using Bit-Manipulation (Using XOR Gate)\n",
    "# 0 ^ 0 = 0\n",
    "# 0 ^ 1 = 1\n",
    "# 1 ^ 0 = 1\n",
    "# 1 ^ 1 = 0\n",
    "\n",
    "def single_number_bm(arr):\n",
    "    bit = 0\n",
    "    for num in arr:\n",
    "        bit ^= num\n",
    "    return bit\n",
    "# TC = O(1)\n",
    "# SC = O(1)"
   ]
  },
  {
   "cell_type": "code",
   "execution_count": 32,
   "id": "14b1b2e0",
   "metadata": {},
   "outputs": [
    {
     "name": "stdout",
     "output_type": "stream",
     "text": [
      "1\n",
      "4\n",
      "0\n"
     ]
    }
   ],
   "source": [
    "print(single_number_bm([2,2,1]))\n",
    "print(single_number_bm([4,1,2,1,2]))\n",
    "print(single_number_bm([4,1,2,1,2,7,7,4]))"
   ]
  }
 ],
 "metadata": {
  "kernelspec": {
   "display_name": "Python 3 (ipykernel)",
   "language": "python",
   "name": "python3"
  },
  "language_info": {
   "codemirror_mode": {
    "name": "ipython",
    "version": 3
   },
   "file_extension": ".py",
   "mimetype": "text/x-python",
   "name": "python",
   "nbconvert_exporter": "python",
   "pygments_lexer": "ipython3",
   "version": "3.10.8"
  }
 },
 "nbformat": 4,
 "nbformat_minor": 5
}
