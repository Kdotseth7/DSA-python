{
 "cells": [
  {
   "cell_type": "markdown",
   "id": "15d4239e",
   "metadata": {},
   "source": [
    "# Linked List: 10 --> 5\n",
    "## Append 16: 10 ---> 5 --> 16\n",
    "## Prepend 1: 1 --> 10 ---> 5 --> 16\n",
    "## Insert 99:  1 --> 10 ---> 99 --> 5 --> 16"
   ]
  },
  {
   "cell_type": "code",
   "execution_count": 24,
   "id": "976e6b22",
   "metadata": {},
   "outputs": [],
   "source": [
    "class Node:\n",
    "    def __init__(self, value):\n",
    "        self.value = value\n",
    "        self.next = None\n",
    "        \n",
    "class CircularSinglyLinkedList:\n",
    "    def __init__(self, value):\n",
    "        self.head = Node(value)\n",
    "        self.head.next = self.head\n",
    "        self.tail = self.head\n",
    "        self.length = 1\n",
    "        \n",
    "    def append(self, value):\n",
    "        new_node = Node(value)\n",
    "        self.tail.next = new_node\n",
    "        self.tail = new_node\n",
    "        self.tail.next = self.head\n",
    "        self.length += 1\n",
    "        \n",
    "    def prepend(self, value):\n",
    "        new_node = Node(value)\n",
    "        new_node.next = self.head\n",
    "        self.head = new_node\n",
    "        self.tail.next = self.head\n",
    "        self.length += 1\n",
    "        \n",
    "    def insert(self, idx, value):\n",
    "        # If idx == 1 --> Prepend Node\n",
    "        if idx == 0:\n",
    "            return self.prepend(value)\n",
    "        # If idx > Length of LL --> Append Node    \n",
    "        if idx > self.length:\n",
    "            return self.append(value)\n",
    "        new_node = Node(value)\n",
    "        prev_node = self.traverse_to_node(idx-1)\n",
    "        post_node = prev_node.next\n",
    "        prev_node.next = new_node\n",
    "        new_node.next = post_node\n",
    "        self.length += 1\n",
    "        \n",
    "    def remove(self, idx):\n",
    "        if idx >= self.length:\n",
    "            return print('Error: Idx out of range')\n",
    "        # Idx is Head\n",
    "        if idx == 0:\n",
    "            unwanted_node = self.head\n",
    "            self.head = unwanted_node.next\n",
    "            self.tail.next = self.head\n",
    "        else:\n",
    "            prev_node = self.traverse_to_node(idx-1)\n",
    "            unwanted_node = prev_node.next\n",
    "            # Idx is Tail\n",
    "            if idx == self.length-1:\n",
    "                prev_node.next = None\n",
    "                self.tail = prev_node\n",
    "                self.tail.next = self.head\n",
    "            else:\n",
    "                post_node = unwanted_node.next\n",
    "                prev_node.next = post_node\n",
    "        self.length -= 1\n",
    "        return unwanted_node\n",
    "    \n",
    "    def traverse_to_node(self, idx):\n",
    "        counter = 0\n",
    "        current_node = self.head\n",
    "        while counter != idx:\n",
    "            current_node = current_node.next\n",
    "            counter += 1\n",
    "        return current_node"
   ]
  },
  {
   "cell_type": "code",
   "execution_count": 25,
   "id": "d067d5aa",
   "metadata": {},
   "outputs": [
    {
     "name": "stdout",
     "output_type": "stream",
     "text": [
      "10\n",
      "5\n",
      "16\n",
      "1\n",
      "99\n",
      "5\n"
     ]
    }
   ],
   "source": [
    "myLinkedList = CircularSinglyLinkedList(10);\n",
    "print(myLinkedList.head.value)\n",
    "# Append 5\n",
    "myLinkedList.append(5)\n",
    "print(myLinkedList.head.next.value)\n",
    "# Append 16\n",
    "myLinkedList.append(16)\n",
    "print(myLinkedList.head.next.next.value)\n",
    "# Prepend 1\n",
    "myLinkedList.prepend(1)\n",
    "print(myLinkedList.head.value)\n",
    "# Insert 99 at idx: 2\n",
    "myLinkedList.insert(2, 99)\n",
    "print(myLinkedList.head.next.next.value)\n",
    "# Remove at idx: 2\n",
    "myLinkedList.remove(2)\n",
    "print(myLinkedList.head.next.next.value)"
   ]
  }
 ],
 "metadata": {
  "kernelspec": {
   "display_name": "Python 3 (ipykernel)",
   "language": "python",
   "name": "python3"
  },
  "language_info": {
   "codemirror_mode": {
    "name": "ipython",
    "version": 3
   },
   "file_extension": ".py",
   "mimetype": "text/x-python",
   "name": "python",
   "nbconvert_exporter": "python",
   "pygments_lexer": "ipython3",
   "version": "3.10.8"
  }
 },
 "nbformat": 4,
 "nbformat_minor": 5
}
