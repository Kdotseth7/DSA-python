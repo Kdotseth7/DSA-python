{
 "cells": [
  {
   "cell_type": "code",
   "execution_count": 45,
   "id": "12670353",
   "metadata": {},
   "outputs": [],
   "source": [
    "class Node:\n",
    "    def __init__(self, value):\n",
    "        self.value = value\n",
    "        self.next = None\n",
    "        \n",
    "class LinkedList1:\n",
    "    \n",
    "    def __init__(self):\n",
    "        self.nodeA = Node('A')\n",
    "        self.nodeB = Node('B')\n",
    "        self.nodeC = Node('C')\n",
    "        self.nodeD = Node('D')\n",
    "        self.nodeA.next = self.nodeB\n",
    "        self.nodeB.next = self.nodeC\n",
    "        self.nodeC.next = self.nodeD\n",
    "        self.head = self.nodeA\n",
    "        \n",
    "    def print_list(self):\n",
    "        array = list()\n",
    "        current_node = self.head\n",
    "        while current_node != None:\n",
    "            array.append(current_node.value)\n",
    "            current_node = current_node.next\n",
    "        print(array)\n",
    "        \n",
    "class LinkedList2:\n",
    "    \n",
    "    def __init__(self):\n",
    "        self.node1 = Node(1)\n",
    "        self.node2 = Node(2)\n",
    "        self.node3 = Node(3)\n",
    "        self.node4 = Node(4)\n",
    "        self.node1.next = self.node2\n",
    "        self.node2.next = self.node3\n",
    "        self.node3.next = self.node4\n",
    "        self.head = self.node1\n",
    "        \n",
    "    def print_list(self):\n",
    "        array = list()\n",
    "        current_node = self.head\n",
    "        while current_node != None:\n",
    "            array.append(current_node.value)\n",
    "            current_node = current_node.next\n",
    "        print(array)"
   ]
  },
  {
   "cell_type": "code",
   "execution_count": 46,
   "id": "d49e9c6c",
   "metadata": {},
   "outputs": [
    {
     "name": "stdout",
     "output_type": "stream",
     "text": [
      "['A', 'B', 'C', 'D']\n",
      "A\n",
      "[1, 2, 3, 4]\n",
      "1\n"
     ]
    }
   ],
   "source": [
    "ll1 = LinkedList1()\n",
    "ll1.print_list()\n",
    "print(ll1.head.value)\n",
    "\n",
    "ll2 = LinkedList2()\n",
    "ll2.print_list()\n",
    "print(ll2.head.value)"
   ]
  },
  {
   "cell_type": "markdown",
   "id": "448e426d",
   "metadata": {},
   "source": [
    "## Given Head of 2 Linked Lists: Create an Interleaved Linked List"
   ]
  },
  {
   "cell_type": "code",
   "execution_count": 47,
   "id": "ad333318",
   "metadata": {},
   "outputs": [],
   "source": [
    "def interleaved(head1, head2):\n",
    "    first = head1\n",
    "    second = head2\n",
    "    while first and second:\n",
    "        temp1 = first.next\n",
    "        temp2 = second.next\n",
    "        if first.next:\n",
    "            second.next = first.next\n",
    "        first.next = second\n",
    "        first = temp1\n",
    "        second = temp2\n",
    "    return head1\n",
    "\n",
    "il_head = interleaved(ll1.head, ll2.head)"
   ]
  },
  {
   "cell_type": "code",
   "execution_count": 56,
   "id": "8b3537ce",
   "metadata": {},
   "outputs": [
    {
     "name": "stdout",
     "output_type": "stream",
     "text": [
      "A\n",
      "|\n",
      "1\n",
      "|\n",
      "B\n",
      "|\n",
      "2\n",
      "|\n",
      "C\n",
      "|\n",
      "3\n",
      "|\n",
      "D\n",
      "|\n",
      "4\n"
     ]
    }
   ],
   "source": [
    "# Print Interleaved Linked List\n",
    "current_node = il_head\n",
    "while current_node != None:\n",
    "    print(current_node.value)\n",
    "    if current_node.next != None:\n",
    "        print('|')\n",
    "    current_node = current_node.next"
   ]
  }
 ],
 "metadata": {
  "kernelspec": {
   "display_name": "Python 3 (ipykernel)",
   "language": "python",
   "name": "python3"
  },
  "language_info": {
   "codemirror_mode": {
    "name": "ipython",
    "version": 3
   },
   "file_extension": ".py",
   "mimetype": "text/x-python",
   "name": "python",
   "nbconvert_exporter": "python",
   "pygments_lexer": "ipython3",
   "version": "3.10.8"
  }
 },
 "nbformat": 4,
 "nbformat_minor": 5
}
