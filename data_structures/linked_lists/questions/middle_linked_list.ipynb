{
 "cells": [
  {
   "cell_type": "code",
   "execution_count": 11,
   "id": "12670353",
   "metadata": {},
   "outputs": [],
   "source": [
    "class Node:\n",
    "    def __init__(self, value):\n",
    "        self.value = value\n",
    "        self.next = None\n",
    "        \n",
    "class LinkedList1:\n",
    "    \n",
    "    def __init__(self):\n",
    "        self.nodeA = Node('A')\n",
    "        self.nodeB = Node('B')\n",
    "        self.nodeC = Node('C')\n",
    "        self.nodeD = Node('D')\n",
    "        self.nodeE = Node('E')\n",
    "        self.nodeA.next = self.nodeB\n",
    "        self.nodeB.next = self.nodeC\n",
    "        self.nodeC.next = self.nodeD\n",
    "        self.nodeD.next = self.nodeE\n",
    "        self.head = self.nodeA\n",
    "        \n",
    "    def print_list(self):\n",
    "        array = list()\n",
    "        current_node = self.head\n",
    "        while current_node != None:\n",
    "            array.append(current_node.value)\n",
    "            current_node = current_node.next\n",
    "        print(array)"
   ]
  },
  {
   "cell_type": "code",
   "execution_count": 12,
   "id": "d49e9c6c",
   "metadata": {},
   "outputs": [
    {
     "name": "stdout",
     "output_type": "stream",
     "text": [
      "['A', 'B', 'C', 'D', 'E']\n",
      "A\n"
     ]
    }
   ],
   "source": [
    "ll1 = LinkedList1()\n",
    "ll1.print_list()\n",
    "print(ll1.head.value)"
   ]
  },
  {
   "cell_type": "markdown",
   "id": "448e426d",
   "metadata": {},
   "source": [
    "## Given Head of a Linked List: Find Middle Node"
   ]
  },
  {
   "cell_type": "code",
   "execution_count": 13,
   "id": "ad333318",
   "metadata": {},
   "outputs": [
    {
     "name": "stdout",
     "output_type": "stream",
     "text": [
      "C\n"
     ]
    }
   ],
   "source": [
    "def middle(head):\n",
    "    slow = head\n",
    "    fast = head\n",
    "    while fast and fast.next:\n",
    "        slow = slow.next\n",
    "        fast = fast.next.next\n",
    "    return slow\n",
    "    \n",
    "print(middle(ll1.head).value)"
   ]
  }
 ],
 "metadata": {
  "kernelspec": {
   "display_name": "Python 3 (ipykernel)",
   "language": "python",
   "name": "python3"
  },
  "language_info": {
   "codemirror_mode": {
    "name": "ipython",
    "version": 3
   },
   "file_extension": ".py",
   "mimetype": "text/x-python",
   "name": "python",
   "nbconvert_exporter": "python",
   "pygments_lexer": "ipython3",
   "version": "3.10.8"
  }
 },
 "nbformat": 4,
 "nbformat_minor": 5
}
