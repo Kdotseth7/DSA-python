{
 "cells": [
  {
   "cell_type": "code",
   "execution_count": 4,
   "id": "12670353",
   "metadata": {},
   "outputs": [],
   "source": [
    "class Node:\n",
    "    def __init__(self, value):\n",
    "        self.value = value\n",
    "        self.next = None\n",
    "        \n",
    "class LinkedList1:\n",
    "    \n",
    "    def __init__(self):\n",
    "        self.nodeA = Node('A')\n",
    "        self.nodeB = Node('B')\n",
    "        self.nodeC = Node('C')\n",
    "        self.nodeD = Node('D')\n",
    "        self.nodeE = Node('E')\n",
    "        self.nodeA.next = self.nodeB\n",
    "        self.nodeB.next = self.nodeC\n",
    "        self.nodeC.next = self.nodeD\n",
    "        self.nodeD.next = self.nodeE\n",
    "        self.nodeE.next = self.nodeC\n",
    "        self.head = self.nodeA"
   ]
  },
  {
   "cell_type": "code",
   "execution_count": 5,
   "id": "d49e9c6c",
   "metadata": {},
   "outputs": [
    {
     "name": "stdout",
     "output_type": "stream",
     "text": [
      "A\n"
     ]
    }
   ],
   "source": [
    "ll1 = LinkedList1()\n",
    "print(ll1.head.value)"
   ]
  },
  {
   "cell_type": "markdown",
   "id": "448e426d",
   "metadata": {},
   "source": [
    "## Given Head of a Linked List: Return Starting Pt of Cycle if it exists else return None"
   ]
  },
  {
   "cell_type": "code",
   "execution_count": 6,
   "id": "ad333318",
   "metadata": {},
   "outputs": [
    {
     "name": "stdout",
     "output_type": "stream",
     "text": [
      "C\n"
     ]
    }
   ],
   "source": [
    "def hasCycle(head):\n",
    "    slow = head\n",
    "    fast = head\n",
    "    # fast == None and fast.next == None will terminate the loop in case linked list doesn't have a cycle and is \"even\" in length\n",
    "    # fast != None and fast.next == None will terminate the loop in case linked list doesn't have a cycle and is \"odd\" in length\n",
    "    while fast and fast.next:\n",
    "        slow = slow.next\n",
    "        fast = fast.next.next\n",
    "        # If there is a loop slow and fast pointers meet at some point\n",
    "        if slow == fast:\n",
    "            return slow\n",
    "    return False\n",
    "    \n",
    "def detectCycle(head):\n",
    "    meeting_node = hasCycle(head)\n",
    "    # If meeting node exists then increment head and meeting_node, they meet at starting_pt of cycle\n",
    "    if meeting_node:\n",
    "        while head != meeting_node:\n",
    "            head = head.next\n",
    "            meeting_node = meeting_node.next\n",
    "        return head\n",
    "    else:\n",
    "        return None\n",
    "    \n",
    "print(detectCycle(ll1.head).value)"
   ]
  }
 ],
 "metadata": {
  "kernelspec": {
   "display_name": "Python 3 (ipykernel)",
   "language": "python",
   "name": "python3"
  },
  "language_info": {
   "codemirror_mode": {
    "name": "ipython",
    "version": 3
   },
   "file_extension": ".py",
   "mimetype": "text/x-python",
   "name": "python",
   "nbconvert_exporter": "python",
   "pygments_lexer": "ipython3",
   "version": "3.10.8"
  }
 },
 "nbformat": 4,
 "nbformat_minor": 5
}
