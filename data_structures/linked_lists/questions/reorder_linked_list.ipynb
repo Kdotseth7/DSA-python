{
 "cells": [
  {
   "cell_type": "markdown",
   "id": "448e426d",
   "metadata": {},
   "source": [
    "## Given Head of a Linked List: Reorder the Linked List\n",
    "You are given the head of a singly linked-list. The list can be represented as:\n",
    "\n",
    "L0 → L1 → … → Ln - 1 → Ln\n",
    "Reorder the list to be on the following form:\n",
    "\n",
    "L0 → Ln → L1 → Ln - 1 → L2 → Ln - 2 → …"
   ]
  },
  {
   "cell_type": "code",
   "execution_count": 103,
   "id": "12670353",
   "metadata": {},
   "outputs": [],
   "source": [
    "class Node:\n",
    "    def __init__(self, value):\n",
    "        self.value = value\n",
    "        self.next = None\n",
    "        \n",
    "class LinkedList1:\n",
    "    \n",
    "    def __init__(self):\n",
    "        self.nodeA = Node('A')\n",
    "        self.nodeB = Node('B')\n",
    "        self.nodeC = Node('C')\n",
    "        self.nodeD = Node('D')\n",
    "        self.nodeE = Node('E')\n",
    "        self.nodeA.next = self.nodeB\n",
    "        self.nodeB.next = self.nodeC\n",
    "        self.nodeC.next = self.nodeD\n",
    "        self.nodeD.next = self.nodeE\n",
    "        self.head = self.nodeA\n",
    "\n",
    "    def reverse(self, head):\n",
    "        # If Linked List has 1 node\n",
    "        if not head.next:\n",
    "            return head\n",
    "\n",
    "        first = head\n",
    "        second = head.next\n",
    "        while second:\n",
    "            temp = second.next\n",
    "            second.next = first\n",
    "            first = second\n",
    "            second = temp\n",
    "        head.next = None\n",
    "        head = first\n",
    "        return head\n",
    "\n",
    "    def traverse_to_middle(self, head, middle):\n",
    "        current_node = head\n",
    "        while current_node.next != middle:\n",
    "            current_node = current_node.next\n",
    "        return current_node\n",
    "\n",
    "    def middle(self, head):\n",
    "        slow = head\n",
    "        fast = head\n",
    "        while fast and fast.next:\n",
    "            slow = slow.next\n",
    "            fast = fast.next.next\n",
    "        return slow\n",
    "\n",
    "    def interleave(self, head1, head2):\n",
    "        first = head1\n",
    "        second = head2\n",
    "        while first and second:\n",
    "            temp1 = first.next\n",
    "            temp2 = second.next\n",
    "            if first.next:\n",
    "                second.next = first.next\n",
    "            first.next = second\n",
    "            first = temp1\n",
    "            second = temp2\n",
    "        return head1\n",
    "    \n",
    "    def reorderList(self, head):\n",
    "        \"\"\"\n",
    "        :type head: ListNode\n",
    "        :rtype: None Do not return anything, modify head in-place instead.\n",
    "        \"\"\"\n",
    "        # If Linked List has more than 2 nodes\n",
    "        if not head or not head.next or not head.next.next:\n",
    "            return False\n",
    "        else:\n",
    "            # Find Middle Node of Linked List\n",
    "            middle = self.middle(head)\n",
    "            prev_middle = self.traverse_to_middle(head, middle) \n",
    "            \n",
    "            # Break the Linked List into 2 parts\n",
    "            second_half = prev_middle.next\n",
    "            prev_middle.next = None\n",
    "            first_half = head\n",
    "\n",
    "            # Reverse the second half\n",
    "            second_half = self.reverse(second_half)\n",
    "\n",
    "            # Interleave the 2 halves\n",
    "            reordered_list = self.interleave(first_half, second_half)\n",
    "            head = reordered_list\n",
    "            return head"
   ]
  },
  {
   "cell_type": "code",
   "execution_count": 100,
   "id": "40270f29",
   "metadata": {},
   "outputs": [],
   "source": [
    "def print_list(head):\n",
    "    array = list()\n",
    "    current_node = head\n",
    "    while current_node != None:\n",
    "        array.append(current_node.value)\n",
    "        current_node = current_node.next\n",
    "    print(array)"
   ]
  },
  {
   "cell_type": "code",
   "execution_count": 104,
   "id": "d49e9c6c",
   "metadata": {},
   "outputs": [
    {
     "name": "stdout",
     "output_type": "stream",
     "text": [
      "['A', 'B', 'C', 'D', 'E']\n",
      "['A', 'E', 'B', 'D', 'C']\n"
     ]
    }
   ],
   "source": [
    "ll1 = LinkedList1()\n",
    "print_list(ll1.head)\n",
    "\n",
    "rl = ll1.reorderList(ll1.head)\n",
    "print_list(rl)"
   ]
  }
 ],
 "metadata": {
  "kernelspec": {
   "display_name": "Python 3 (ipykernel)",
   "language": "python",
   "name": "python3"
  },
  "language_info": {
   "codemirror_mode": {
    "name": "ipython",
    "version": 3
   },
   "file_extension": ".py",
   "mimetype": "text/x-python",
   "name": "python",
   "nbconvert_exporter": "python",
   "pygments_lexer": "ipython3",
   "version": "3.10.8"
  }
 },
 "nbformat": 4,
 "nbformat_minor": 5
}
