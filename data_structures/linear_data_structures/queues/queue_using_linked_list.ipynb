{
 "cells": [
  {
   "cell_type": "code",
   "execution_count": 21,
   "id": "746dbb89",
   "metadata": {},
   "outputs": [],
   "source": [
    "class Node:\n",
    "    def __init__(self, value):\n",
    "        self.value = value\n",
    "        self.next = None\n",
    "        \n",
    "class Queue:\n",
    "    def __init__(self):\n",
    "        self.front = None\n",
    "        self.rear = None\n",
    "        self.length = 0\n",
    "        \n",
    "    def peek(self):\n",
    "        return self.front\n",
    "        \n",
    "    def enqueue(self, value):        \n",
    "        new_node = Node(value)\n",
    "        if not self.front and not self.rear:\n",
    "            self.front = new_node\n",
    "            self.rear = self.front\n",
    "        else:    \n",
    "            self.rear.next = new_node\n",
    "            self.rear = new_node\n",
    "        self.length += 1\n",
    "    \n",
    "    def dequeue(self):\n",
    "        if not self.front:\n",
    "            return None\n",
    "        if self.length == 1:\n",
    "            self.front = None\n",
    "            self.rear = None\n",
    "        old_front = self.front\n",
    "        self.front = old_front.next\n",
    "        self.length -= 1\n",
    "    \n",
    "    def print_queue(self):\n",
    "        array = list()\n",
    "        current_node = self.front\n",
    "        while current_node != None:\n",
    "            array.append(current_node.value)\n",
    "            current_node = current_node.next\n",
    "        print(array[::-1])"
   ]
  },
  {
   "cell_type": "code",
   "execution_count": 25,
   "id": "732d9b19",
   "metadata": {},
   "outputs": [
    {
     "name": "stdout",
     "output_type": "stream",
     "text": [
      "None\n",
      "[2, 1, 5]\n",
      "[2, 1]\n",
      "1\n"
     ]
    }
   ],
   "source": [
    "queue = Queue()\n",
    "print(queue.peek())\n",
    "queue.enqueue(5)\n",
    "queue.enqueue(1)\n",
    "queue.enqueue(2)\n",
    "queue.print_queue()\n",
    "queue.dequeue()\n",
    "queue.print_queue()\n",
    "print(queue.peek().value)"
   ]
  }
 ],
 "metadata": {
  "kernelspec": {
   "display_name": "Python 3 (ipykernel)",
   "language": "python",
   "name": "python3"
  },
  "language_info": {
   "codemirror_mode": {
    "name": "ipython",
    "version": 3
   },
   "file_extension": ".py",
   "mimetype": "text/x-python",
   "name": "python",
   "nbconvert_exporter": "python",
   "pygments_lexer": "ipython3",
   "version": "3.10.8"
  }
 },
 "nbformat": 4,
 "nbformat_minor": 5
}
