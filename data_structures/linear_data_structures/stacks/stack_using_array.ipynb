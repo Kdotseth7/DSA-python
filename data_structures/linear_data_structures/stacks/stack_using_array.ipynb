{
 "cells": [
  {
   "cell_type": "code",
   "execution_count": 2,
   "id": "0872bd68",
   "metadata": {},
   "outputs": [],
   "source": [
    "class Stack:\n",
    "    def __init__(self):\n",
    "        self.array = []\n",
    "        \n",
    "    def peek(self):\n",
    "        return self.array[len(self.array) - 1]\n",
    "    \n",
    "    def push(self, value):\n",
    "        self.array.append(value)\n",
    "    \n",
    "    def pop(self):\n",
    "        self.array = self.array[:-1]\n",
    "        \n",
    "    def is_empty(self):\n",
    "        return not len(self.array)"
   ]
  },
  {
   "cell_type": "code",
   "execution_count": 7,
   "id": "dc28ac6b",
   "metadata": {},
   "outputs": [
    {
     "name": "stdout",
     "output_type": "stream",
     "text": [
      "[4, 6]\n",
      "False\n",
      "6\n"
     ]
    }
   ],
   "source": [
    "stack = Stack()\n",
    "stack.push(4)\n",
    "stack.push(6)\n",
    "stack.push(8)\n",
    "stack.pop()\n",
    "print(stack.array)\n",
    "print(stack.is_empty())\n",
    "print(stack.peek())"
   ]
  }
 ],
 "metadata": {
  "kernelspec": {
   "display_name": "Python 3 (ipykernel)",
   "language": "python",
   "name": "python3"
  },
  "language_info": {
   "codemirror_mode": {
    "name": "ipython",
    "version": 3
   },
   "file_extension": ".py",
   "mimetype": "text/x-python",
   "name": "python",
   "nbconvert_exporter": "python",
   "pygments_lexer": "ipython3",
   "version": "3.10.8"
  }
 },
 "nbformat": 4,
 "nbformat_minor": 5
}
