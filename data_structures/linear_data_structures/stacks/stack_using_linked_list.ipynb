{
 "cells": [
  {
   "cell_type": "code",
   "execution_count": 10,
   "id": "e50fcd25",
   "metadata": {},
   "outputs": [],
   "source": [
    "class Node:\n",
    "    def __init__(self, value):\n",
    "        self.value = value\n",
    "        self.next = None\n",
    "\n",
    "class Stack:\n",
    "    def __init__(self):\n",
    "        self.bottom = None\n",
    "        self.top = None\n",
    "        self.length = 0\n",
    "        \n",
    "    def peek(self):\n",
    "        return self.top\n",
    "    \n",
    "    def push(self, value):\n",
    "        new_node = Node(value)\n",
    "        if not self.length:\n",
    "            self.bottom = new_node\n",
    "            self.top = self.bottom\n",
    "        else:\n",
    "            old_top = self.top\n",
    "            self.top = new_node\n",
    "            self.top.next = old_top\n",
    "        self.length += 1\n",
    "    \n",
    "    def pop(self):\n",
    "        if not self.top:\n",
    "            return None\n",
    "        old_top = self.top\n",
    "        self.top = old_top.next\n",
    "        return old_top\n",
    "        self.length -= 1\n",
    "        \n",
    "    def is_empty(self):\n",
    "        return not self.top\n",
    "    \n",
    "    def printStack(self):\n",
    "        array = [];\n",
    "        current_node = self.top;\n",
    "        while current_node != None:\n",
    "            array.append(current_node.value)\n",
    "            current_node = current_node.next\n",
    "        print(array[::-1])"
   ]
  },
  {
   "cell_type": "code",
   "execution_count": 13,
   "id": "185f9ab5",
   "metadata": {},
   "outputs": [
    {
     "name": "stdout",
     "output_type": "stream",
     "text": [
      "[4, 6, 8]\n",
      "[4, 6]\n",
      "False\n",
      "6\n"
     ]
    }
   ],
   "source": [
    "stack = Stack()\n",
    "stack.push(4)\n",
    "stack.push(6)\n",
    "stack.push(8)\n",
    "stack.printStack()\n",
    "stack.pop()\n",
    "stack.printStack()\n",
    "print(stack.is_empty())\n",
    "print(stack.peek().value)"
   ]
  }
 ],
 "metadata": {
  "kernelspec": {
   "display_name": "Python 3 (ipykernel)",
   "language": "python",
   "name": "python3"
  },
  "language_info": {
   "codemirror_mode": {
    "name": "ipython",
    "version": 3
   },
   "file_extension": ".py",
   "mimetype": "text/x-python",
   "name": "python",
   "nbconvert_exporter": "python",
   "pygments_lexer": "ipython3",
   "version": "3.10.8"
  }
 },
 "nbformat": 4,
 "nbformat_minor": 5
}
