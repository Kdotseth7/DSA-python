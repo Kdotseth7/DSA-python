{
 "cells": [
  {
   "cell_type": "code",
   "execution_count": 2,
   "id": "493fd21f",
   "metadata": {
    "code_folding": [
     0
    ]
   },
   "outputs": [],
   "source": [
    "def print_tree(root):\n",
    "    def height(root):\n",
    "        return 1 + max(height(root.left), height(root.right)) if root else -1  \n",
    "    nlevels = height(root)\n",
    "    width =  pow(2,nlevels+1)\n",
    "\n",
    "    q=[(root,0,width,'c')]\n",
    "    levels=[]\n",
    "\n",
    "    while(q):\n",
    "        node,level,x,align= q.pop(0)\n",
    "        if node:            \n",
    "            if len(levels)<=level:\n",
    "                levels.append([])\n",
    "        \n",
    "            levels[level].append([node,level,x,align])\n",
    "            seg= width//(pow(2,level+1))\n",
    "            q.append((node.left,level+1,x-seg,'l'))\n",
    "            q.append((node.right,level+1,x+seg,'r'))\n",
    "\n",
    "    for i,l in enumerate(levels):\n",
    "        pre=0\n",
    "        preline=0\n",
    "        linestr=''\n",
    "        pstr=''\n",
    "        seg= width//(pow(2,i+1))\n",
    "        for n in l:\n",
    "            valstr= str(n[0].value)\n",
    "            if n[3]=='r':\n",
    "                linestr+=' '*(n[2]-preline-1-seg-seg//2)+ '¯'*(seg +seg//2)+'\\\\'\n",
    "                preline = n[2] \n",
    "            if n[3]=='l':\n",
    "               linestr+=' '*(n[2]-preline-1)+'/' + '¯'*(seg+seg//2)  \n",
    "               preline = n[2] + seg + seg//2\n",
    "            pstr+=' '*(n[2]-pre-len(valstr))+valstr #correct the potition acording to the number size\n",
    "            pre = n[2]\n",
    "        print(linestr)\n",
    "        print(pstr)   "
   ]
  },
  {
   "cell_type": "code",
   "execution_count": 12,
   "id": "e5ffcd3f",
   "metadata": {
    "code_folding": [
     12
    ]
   },
   "outputs": [],
   "source": [
    "class BST_Node:\n",
    "    def __init__(self, value):\n",
    "        self.value = value\n",
    "        self.left = None\n",
    "        self.right = None\n",
    "        \n",
    "class BinarySearchTree:\n",
    "    \n",
    "    def __init__(self):\n",
    "        self.root = None\n",
    "        self.all_paths = list()\n",
    "                    \n",
    "    def insert(self, node, value):\n",
    "        if not node:\n",
    "            return BST_Node(value)\n",
    "        # LEFT\n",
    "        if node.value > value:\n",
    "            node.left = self.insert(node.left, value)\n",
    "        # RIGHT\n",
    "        elif node.value < value:\n",
    "            node.right = self.insert(node.right, value)\n",
    "        return node\n",
    "    \n",
    "    def find_path(self, node, path):\n",
    "        if not node:\n",
    "            return\n",
    "\n",
    "        if not node.left and not node.right:\n",
    "            path += str(node.value)\n",
    "            self.all_paths.append(path)\n",
    "            return\n",
    "        self.find_path(node.left, path + str(node.value) + '->')\n",
    "        self.find_path(node.right, path + str(node.value) + '->')"
   ]
  },
  {
   "cell_type": "code",
   "execution_count": 13,
   "id": "a46e0723",
   "metadata": {},
   "outputs": [
    {
     "name": "stdout",
     "output_type": "stream",
     "text": [
      "-------------------------------------------------------PRINT TREE---------------------------------------------------------------------------------------\n",
      "\n",
      "                                                              40\n",
      "                               /¯¯¯¯¯¯¯¯¯¯¯¯¯¯¯¯¯¯¯¯¯¯¯¯               ¯¯¯¯¯¯¯¯¯¯¯¯¯¯¯¯¯¯¯¯¯¯¯¯\\\n",
      "                              30                                                              80\n",
      "               /¯¯¯¯¯¯¯¯¯¯¯¯       ¯¯¯¯¯¯¯¯¯¯¯¯\\                               /¯¯¯¯¯¯¯¯¯¯¯¯       ¯¯¯¯¯¯¯¯¯¯¯¯\\\n",
      "              22                              35                              48                              90\n",
      "       /¯¯¯¯¯¯   ¯¯¯¯¯¯\\               /¯¯¯¯¯¯   ¯¯¯¯¯¯\\               /¯¯¯¯¯¯   ¯¯¯¯¯¯\\                         ¯¯¯¯¯¯\\\n",
      "      21              28              33              39              45              70                              98\n",
      "   /¯¯¯                                                                            /¯¯¯ ¯¯¯\\                            ¯¯¯\\\n",
      "  20                                                                              60      75                             101\n",
      "                                                                                 /¯\n",
      "                                                                                55\n",
      "-------------------------------------------------------ALL ROOT TO LEAF PATHS---------------------------------------------------------------------------------------\n",
      "['40->30->22->21->20', '40->30->22->28', '40->30->35->33', '40->30->35->39', '40->80->48->45', '40->80->48->70->60->55', '40->80->48->70->75', '40->80->90->98->101']\n"
     ]
    }
   ],
   "source": [
    "bst = BinarySearchTree()\n",
    "keys = [40, 30, 35, 22, 21, 28, 39, 33, 80, 20, 48, 90, 45, 70, 98, 101, 60, 55, 75]\n",
    "for i in keys:\n",
    "    bst.root = bst.insert(bst.root, i)\n",
    "print('-------------------------------------------------------PRINT TREE---------------------------------------------------------------------------------------')\n",
    "print_tree(bst.root)\n",
    "print('-------------------------------------------------------ALL ROOT TO LEAF PATHS---------------------------------------------------------------------------------------')\n",
    "bst.find_path(bst.root, '')\n",
    "print(bst.all_paths)"
   ]
  }
 ],
 "metadata": {
  "kernelspec": {
   "display_name": "Python 3 (ipykernel)",
   "language": "python",
   "name": "python3"
  },
  "language_info": {
   "codemirror_mode": {
    "name": "ipython",
    "version": 3
   },
   "file_extension": ".py",
   "mimetype": "text/x-python",
   "name": "python",
   "nbconvert_exporter": "python",
   "pygments_lexer": "ipython3",
   "version": "3.10.8"
  }
 },
 "nbformat": 4,
 "nbformat_minor": 5
}
