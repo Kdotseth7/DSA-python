{
 "cells": [
  {
   "cell_type": "code",
   "execution_count": 8,
   "id": "5693dacd",
   "metadata": {},
   "outputs": [],
   "source": [
    "def addDigits(num):\n",
    "    num = str(num)\n",
    "    if len(num) == 1:\n",
    "        return int(num)\n",
    "\n",
    "    sum = 0\n",
    "    for i in num:\n",
    "        sum += int(i)\n",
    "\n",
    "    return addDigits(sum)"
   ]
  },
  {
   "cell_type": "code",
   "execution_count": 10,
   "id": "876275b7",
   "metadata": {},
   "outputs": [
    {
     "name": "stdout",
     "output_type": "stream",
     "text": [
      "2\n"
     ]
    }
   ],
   "source": [
    "print(addDigits(785))"
   ]
  }
 ],
 "metadata": {
  "kernelspec": {
   "display_name": "Python 3 (ipykernel)",
   "language": "python",
   "name": "python3"
  },
  "language_info": {
   "codemirror_mode": {
    "name": "ipython",
    "version": 3
   },
   "file_extension": ".py",
   "mimetype": "text/x-python",
   "name": "python",
   "nbconvert_exporter": "python",
   "pygments_lexer": "ipython3",
   "version": "3.10.8"
  }
 },
 "nbformat": 4,
 "nbformat_minor": 5
}
