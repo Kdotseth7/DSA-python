{
 "cells": [
  {
   "attachments": {},
   "cell_type": "markdown",
   "metadata": {},
   "source": [
    "Write a function called find_bigrams that takes a sentence or paragraph of strings and returns a list of all bigrams.\n",
    "\n",
    "Example:\n",
    "\n",
    "Input:\n",
    "\n",
    "sentence = \"\"\"\n",
    "Have free hours and love children? \n",
    "Drive kids to school, soccer practice \n",
    "and other activities.\n",
    "\"\"\""
   ]
  },
  {
   "cell_type": "code",
   "execution_count": 11,
   "metadata": {},
   "outputs": [
    {
     "name": "stdout",
     "output_type": "stream",
     "text": [
      "[('Have', 'free'), ('free', 'hours'), ('hours', 'and'), ('and', 'love'), ('love', 'children?'), ('children?', 'Drive'), ('Drive', 'kids'), ('kids', 'to'), ('to', 'school,'), ('school,', 'soccer'), ('soccer', 'practice'), ('practice', 'and'), ('and', 'other'), ('other', 'activities.')]\n"
     ]
    }
   ],
   "source": [
    "def generate_bigrams(text):\n",
    "    bigrams = list()\n",
    "    tokens = text.strip().split()\n",
    "    for i in range(len(tokens)-1):\n",
    "        bigram = (tokens[i], tokens[i+1])\n",
    "        bigrams.append(bigram)\n",
    "    return bigrams\n",
    "\n",
    "sent = \"\"\"\n",
    "Have free hours and love children? \n",
    "Drive kids to school, soccer practice \n",
    "and other activities.\n",
    "\"\"\"\n",
    "print(generate_bigrams(sent))"
   ]
  },
  {
   "attachments": {},
   "cell_type": "markdown",
   "metadata": {},
   "source": [
    "You’re given a dataframe df_rain containing rainfall data. The dataframe has two columns: day of the week and rainfall in inches.\n",
    "\n",
    "Write a function median_rainfall to find the median amount of rainfall for the days on which it rained.\n",
    "\n",
    "Note: You may assume it rained on at least one of the days.\n",
    "\n",
    "Input:\n",
    "\n",
    "import pandas as pd\n",
    "\n",
    "rainfall = {\"Day\" : [\"Monday\", \"Tuesday\", \"Wednesday\", \"Thursday\", \"Friday\"], \"Inches\" : [0, 1.2, 0, 0.8, 1]}\n",
    "\n",
    "df_rain = pd.DataFrame(rainfall)\n",
    "Output:\n",
    "\n",
    "def median_rainfall(df_rain) -> 1"
   ]
  },
  {
   "cell_type": "code",
   "execution_count": 63,
   "metadata": {},
   "outputs": [
    {
     "data": {
      "text/html": [
       "<div>\n",
       "<style scoped>\n",
       "    .dataframe tbody tr th:only-of-type {\n",
       "        vertical-align: middle;\n",
       "    }\n",
       "\n",
       "    .dataframe tbody tr th {\n",
       "        vertical-align: top;\n",
       "    }\n",
       "\n",
       "    .dataframe thead th {\n",
       "        text-align: right;\n",
       "    }\n",
       "</style>\n",
       "<table border=\"1\" class=\"dataframe\">\n",
       "  <thead>\n",
       "    <tr style=\"text-align: right;\">\n",
       "      <th></th>\n",
       "      <th>Day</th>\n",
       "      <th>Inches</th>\n",
       "    </tr>\n",
       "  </thead>\n",
       "  <tbody>\n",
       "    <tr>\n",
       "      <th>0</th>\n",
       "      <td>Monday</td>\n",
       "      <td>0.0</td>\n",
       "    </tr>\n",
       "    <tr>\n",
       "      <th>1</th>\n",
       "      <td>Tuesday</td>\n",
       "      <td>1.2</td>\n",
       "    </tr>\n",
       "    <tr>\n",
       "      <th>2</th>\n",
       "      <td>Wednesday</td>\n",
       "      <td>0.0</td>\n",
       "    </tr>\n",
       "    <tr>\n",
       "      <th>3</th>\n",
       "      <td>Thursday</td>\n",
       "      <td>0.8</td>\n",
       "    </tr>\n",
       "    <tr>\n",
       "      <th>4</th>\n",
       "      <td>Friday</td>\n",
       "      <td>1.0</td>\n",
       "    </tr>\n",
       "  </tbody>\n",
       "</table>\n",
       "</div>"
      ],
      "text/plain": [
       "         Day  Inches\n",
       "0     Monday     0.0\n",
       "1    Tuesday     1.2\n",
       "2  Wednesday     0.0\n",
       "3   Thursday     0.8\n",
       "4     Friday     1.0"
      ]
     },
     "execution_count": 63,
     "metadata": {},
     "output_type": "execute_result"
    }
   ],
   "source": [
    "import pandas as pd\n",
    "\n",
    "rainfall = {\"Day\" : [\"Monday\", \"Tuesday\", \"Wednesday\", \"Thursday\", \"Friday\"], \"Inches\" : [0, 1.2, 0, 0.8, 1]}\n",
    "\n",
    "df_rain = pd.DataFrame(rainfall)\n",
    "df_rain"
   ]
  },
  {
   "cell_type": "code",
   "execution_count": 64,
   "metadata": {},
   "outputs": [
    {
     "name": "stdout",
     "output_type": "stream",
     "text": [
      "Median: 1.0\n"
     ]
    }
   ],
   "source": [
    "def median_rainfall(df):\n",
    "    df = df[df['Inches'] > 0.0]\n",
    "    # df = df.sort_values(by=['Inches'])\n",
    "    return df['Inches'].median()\n",
    "    \n",
    "median = median_rainfall(df_rain)\n",
    "print(f'Median: {median}')"
   ]
  },
  {
   "attachments": {},
   "cell_type": "markdown",
   "metadata": {},
   "source": [
    "You’re given a dataframe df_cheeses containing a list of the price of various cheeses from California. The dataframe has missing values in the price column.\n",
    "Write a function cheese_median to impute the median price of the selected California cheeses in place of the missing values. You may assume at least one cheese is not missing its price.\n",
    "\n",
    "Example:\n",
    "\n",
    "Input:\n",
    "\n",
    "import pandas as pd\n",
    "\n",
    "cheeses = {\"Name\": [\n",
    "\"Bohemian Goat\", \n",
    "\"Central Coast Bleu\", \n",
    "\"Cowgirl Mozzarella\", \n",
    "\"Cypress Grove Cheddar\", \n",
    "\"Oakdale Colby\"], \n",
    "\"Price\" : [15.00, None, 30.00, None, 45.00]}\n",
    "\n",
    "df_cheeses = pd.DataFrame(cheeses)\n",
    "Output:\n",
    "\n",
    "Name\tPrice\n",
    "Bohemian Goat\t15.00\n",
    "Central Coast Bleu\t30.00\n",
    "Cowgirl Mozzarella\t30.00\n",
    "Cypress Grove Cheddar\t30.00\n",
    "Oakdale Colby\t45.00"
   ]
  },
  {
   "cell_type": "code",
   "execution_count": 65,
   "metadata": {},
   "outputs": [
    {
     "data": {
      "text/html": [
       "<div>\n",
       "<style scoped>\n",
       "    .dataframe tbody tr th:only-of-type {\n",
       "        vertical-align: middle;\n",
       "    }\n",
       "\n",
       "    .dataframe tbody tr th {\n",
       "        vertical-align: top;\n",
       "    }\n",
       "\n",
       "    .dataframe thead th {\n",
       "        text-align: right;\n",
       "    }\n",
       "</style>\n",
       "<table border=\"1\" class=\"dataframe\">\n",
       "  <thead>\n",
       "    <tr style=\"text-align: right;\">\n",
       "      <th></th>\n",
       "      <th>Name</th>\n",
       "      <th>Price</th>\n",
       "    </tr>\n",
       "  </thead>\n",
       "  <tbody>\n",
       "    <tr>\n",
       "      <th>0</th>\n",
       "      <td>Bohemian Goat</td>\n",
       "      <td>15.0</td>\n",
       "    </tr>\n",
       "    <tr>\n",
       "      <th>1</th>\n",
       "      <td>Central Coast Bleu</td>\n",
       "      <td>NaN</td>\n",
       "    </tr>\n",
       "    <tr>\n",
       "      <th>2</th>\n",
       "      <td>Cowgirl Mozzarella</td>\n",
       "      <td>30.0</td>\n",
       "    </tr>\n",
       "    <tr>\n",
       "      <th>3</th>\n",
       "      <td>Cypress Grove Cheddar</td>\n",
       "      <td>NaN</td>\n",
       "    </tr>\n",
       "    <tr>\n",
       "      <th>4</th>\n",
       "      <td>Oakdale Colby</td>\n",
       "      <td>45.0</td>\n",
       "    </tr>\n",
       "  </tbody>\n",
       "</table>\n",
       "</div>"
      ],
      "text/plain": [
       "                    Name  Price\n",
       "0          Bohemian Goat   15.0\n",
       "1     Central Coast Bleu    NaN\n",
       "2     Cowgirl Mozzarella   30.0\n",
       "3  Cypress Grove Cheddar    NaN\n",
       "4          Oakdale Colby   45.0"
      ]
     },
     "execution_count": 65,
     "metadata": {},
     "output_type": "execute_result"
    }
   ],
   "source": [
    "import pandas as pd\n",
    "\n",
    "cheeses = {\"Name\": [\n",
    "\"Bohemian Goat\", \n",
    "\"Central Coast Bleu\", \n",
    "\"Cowgirl Mozzarella\", \n",
    "\"Cypress Grove Cheddar\", \n",
    "\"Oakdale Colby\"], \n",
    "\"Price\" : [15.00, None, 30.00, None, 45.00]}\n",
    "\n",
    "df_cheeses = pd.DataFrame(cheeses)\n",
    "\n",
    "df_cheeses"
   ]
  },
  {
   "cell_type": "code",
   "execution_count": 72,
   "metadata": {},
   "outputs": [
    {
     "name": "stdout",
     "output_type": "stream",
     "text": [
      "DataFrame with NaN filled as Median:\n",
      "                    Name  Price\n",
      "0          Bohemian Goat   15.0\n",
      "1     Central Coast Bleu   30.0\n",
      "2     Cowgirl Mozzarella   30.0\n",
      "3  Cypress Grove Cheddar   30.0\n",
      "4          Oakdale Colby   45.0\n"
     ]
    }
   ],
   "source": [
    "import pandas as pd\n",
    "\n",
    "def cheese_median(df):\n",
    "    median_val = df['Price'].median()\n",
    "    df['Price'] = df['Price'].fillna(median_val)\n",
    "    return df\n",
    "    \n",
    "updated_df = cheese_median(df_cheeses)\n",
    "print(f'DataFrame with NaN filled as Median:\\n{updated_df}')"
   ]
  },
  {
   "attachments": {},
   "cell_type": "markdown",
   "metadata": {},
   "source": [
    "Write a function compute_deviation that takes in a list of dictionaries with a key and list of integers and returns a dictionary with the standard deviation of each list.\n",
    "\n",
    "Note: This should be done without using the NumPy built-in functions.\n",
    "\n",
    "Example:\n",
    "\n",
    "Input:\n",
    "\n",
    "input = [\n",
    "    {\n",
    "        'key': 'list1',\n",
    "        'values': [4,5,2,3,4,5,2,3],\n",
    "    },\n",
    "    {\n",
    "        'key': 'list2',\n",
    "        'values': [1,1,34,12,40,3,9,7],\n",
    "    }\n",
    "]\n",
    "Output:\n",
    "\n",
    " output = {'list1': 1.12, 'list2': 14.19}\n"
   ]
  },
  {
   "cell_type": "code",
   "execution_count": 75,
   "metadata": {},
   "outputs": [
    {
     "name": "stdout",
     "output_type": "stream",
     "text": [
      "[{'key': 'list1', 'values': [4, 5, 2, 3, 4, 5, 2, 3]}, {'key': 'list2', 'values': [1, 1, 34, 12, 40, 3, 9, 7]}]\n"
     ]
    }
   ],
   "source": [
    "input = [\n",
    "    {\n",
    "        'key': 'list1',\n",
    "        'values': [4,5,2,3,4,5,2,3],\n",
    "    },\n",
    "    {\n",
    "        'key': 'list2',\n",
    "        'values': [1,1,34,12,40,3,9,7],\n",
    "    }\n",
    "]\n",
    "print(input)"
   ]
  },
  {
   "cell_type": "code",
   "execution_count": 111,
   "metadata": {},
   "outputs": [
    {
     "name": "stdout",
     "output_type": "stream",
     "text": [
      "1.12\n",
      "14.19\n"
     ]
    }
   ],
   "source": [
    "def compute_deviation(list_numbers):\n",
    "    N = len(list_numbers)\n",
    "    sum = 0\n",
    "    for i in list_numbers:\n",
    "        sum += i\n",
    "    mean = sum/N\n",
    "    num_sum = 0\n",
    "    for i in list_numbers:\n",
    "        num_sum += (i - mean)**2\n",
    "    return round(pow(num_sum/N, 1/2), 2)\n",
    "\n",
    "std1 = compute_deviation(input[0]['values'])\n",
    "print(std1)\n",
    "std2 = compute_deviation(input[1]['values'])\n",
    "print(std2)"
   ]
  },
  {
   "attachments": {},
   "cell_type": "markdown",
   "metadata": {},
   "source": [
    "You’re given a dataframe of students named students_df:\n",
    "\n",
    "students_df table\n",
    "\n",
    "name\tage\tfavorite_color\tgrade\n",
    "Tim Voss\t19\tred\t91\n",
    "Nicole Johnson\t20\tyellow\t95\n",
    "Elsa Williams\t21\tgreen\t82\n",
    "John James\t20\tblue\t75\n",
    "Catherine Jones\t23\tgreen\t93\n",
    "Write a function named grades_colors to select only the rows where the student’s favorite color is green or red and their grade is above 90.\n",
    "\n",
    "Example:\n",
    "\n",
    "Input:\n",
    "\n",
    "import pandas as pd\n",
    "\n",
    "students = {\"name\" : [\"Tim Voss\", \"Nicole Johnson\", \"Elsa Williams\", \"John James\", \"Catherine Jones\"], \"age\" : [19, 20, 21, 20, 23], \"favorite_color\" : [\"red\", \"yellow\", \"green\", \"blue\", \"green\"], \"grade\" : [91, 95, 82, 75, 93]}\n",
    "\n",
    "students_df = pd.DataFrame(students)\n",
    "Output:\n",
    "\n",
    "def grades_colors(students_df) ->\n",
    "name\tage\tfavorite_color\tgrade\n",
    "Tim Voss\t19\tred\t91\n",
    "Catherine Jones\t23\tgreen\t93\n"
   ]
  },
  {
   "cell_type": "code",
   "execution_count": 127,
   "metadata": {},
   "outputs": [
    {
     "data": {
      "text/html": [
       "<div>\n",
       "<style scoped>\n",
       "    .dataframe tbody tr th:only-of-type {\n",
       "        vertical-align: middle;\n",
       "    }\n",
       "\n",
       "    .dataframe tbody tr th {\n",
       "        vertical-align: top;\n",
       "    }\n",
       "\n",
       "    .dataframe thead th {\n",
       "        text-align: right;\n",
       "    }\n",
       "</style>\n",
       "<table border=\"1\" class=\"dataframe\">\n",
       "  <thead>\n",
       "    <tr style=\"text-align: right;\">\n",
       "      <th></th>\n",
       "      <th>name</th>\n",
       "      <th>age</th>\n",
       "      <th>favorite_color</th>\n",
       "      <th>grade</th>\n",
       "    </tr>\n",
       "  </thead>\n",
       "  <tbody>\n",
       "    <tr>\n",
       "      <th>0</th>\n",
       "      <td>Tim Voss</td>\n",
       "      <td>19</td>\n",
       "      <td>red</td>\n",
       "      <td>91</td>\n",
       "    </tr>\n",
       "    <tr>\n",
       "      <th>1</th>\n",
       "      <td>Nicole Johnson</td>\n",
       "      <td>20</td>\n",
       "      <td>yellow</td>\n",
       "      <td>95</td>\n",
       "    </tr>\n",
       "    <tr>\n",
       "      <th>2</th>\n",
       "      <td>Elsa Williams</td>\n",
       "      <td>21</td>\n",
       "      <td>green</td>\n",
       "      <td>82</td>\n",
       "    </tr>\n",
       "    <tr>\n",
       "      <th>3</th>\n",
       "      <td>John James</td>\n",
       "      <td>20</td>\n",
       "      <td>blue</td>\n",
       "      <td>75</td>\n",
       "    </tr>\n",
       "    <tr>\n",
       "      <th>4</th>\n",
       "      <td>Catherine Jones</td>\n",
       "      <td>23</td>\n",
       "      <td>green</td>\n",
       "      <td>93</td>\n",
       "    </tr>\n",
       "  </tbody>\n",
       "</table>\n",
       "</div>"
      ],
      "text/plain": [
       "              name  age favorite_color  grade\n",
       "0         Tim Voss   19            red     91\n",
       "1   Nicole Johnson   20         yellow     95\n",
       "2    Elsa Williams   21          green     82\n",
       "3       John James   20           blue     75\n",
       "4  Catherine Jones   23          green     93"
      ]
     },
     "execution_count": 127,
     "metadata": {},
     "output_type": "execute_result"
    }
   ],
   "source": [
    "students = {\"name\" : [\"Tim Voss\", \"Nicole Johnson\", \"Elsa Williams\", \"John James\", \"Catherine Jones\"], \"age\" : [19, 20, 21, 20, 23], \"favorite_color\" : [\"red\", \"yellow\", \"green\", \"blue\", \"green\"], \"grade\" : [91, 95, 82, 75, 93]}\n",
    "\n",
    "students_df = pd.DataFrame(students)\n",
    "students_df"
   ]
  },
  {
   "cell_type": "code",
   "execution_count": 134,
   "metadata": {},
   "outputs": [
    {
     "name": "stdout",
     "output_type": "stream",
     "text": [
      "              name  age favorite_color  grade\n",
      "0         Tim Voss   19            red     91\n",
      "4  Catherine Jones   23          green     93\n"
     ]
    }
   ],
   "source": [
    "def grades_colors(students_df: pd.DataFrame):\n",
    "    students_df = students_df[((students_df['favorite_color'] == 'green') | (students_df['favorite_color'] == 'red')) & (students_df['grade'] > 90)]\n",
    "    return students_df\n",
    "\n",
    "print(grades_colors(students_df))"
   ]
  },
  {
   "attachments": {},
   "cell_type": "markdown",
   "metadata": {},
   "source": [
    "In data science, there exists the concept of stemming, which is the heuristic of chopping off the end of a word to clean and bucket it into an easier feature set. \n",
    "\n",
    "Given a dictionary consisting of many roots and a sentence, write a function replace_words to stem all the words in the sentence with the root forming it. If a word has many roots that can form it, replace it with the root with the shortest length.\n",
    "\n",
    "Example:\n",
    "\n",
    "Input:\n",
    "\n",
    "\n",
    "roots = [\"cat\", \"bat\", \"rat\"]\n",
    "sentence = \"the cattle was rattled by the battery\"\n",
    "Output:\n",
    "\n",
    " \"the cat was rat by the bat\""
   ]
  },
  {
   "cell_type": "code",
   "execution_count": null,
   "metadata": {},
   "outputs": [],
   "source": [
    "def replace_words(roots, sentence):\n",
    "  pass"
   ]
  },
  {
   "cell_type": "markdown",
   "metadata": {},
   "source": []
  }
 ],
 "metadata": {
  "kernelspec": {
   "display_name": "pvenv",
   "language": "python",
   "name": "python3"
  },
  "language_info": {
   "codemirror_mode": {
    "name": "ipython",
    "version": 3
   },
   "file_extension": ".py",
   "mimetype": "text/x-python",
   "name": "python",
   "nbconvert_exporter": "python",
   "pygments_lexer": "ipython3",
   "version": "3.10.9"
  },
  "orig_nbformat": 4,
  "vscode": {
   "interpreter": {
    "hash": "c2c87e16e3c5224f19fdcd75f65d952c55b5bf326ebfd42c1280c69b64e015be"
   }
  }
 },
 "nbformat": 4,
 "nbformat_minor": 2
}
