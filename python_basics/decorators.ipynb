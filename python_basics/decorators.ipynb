{
 "cells": [
  {
   "cell_type": "code",
   "execution_count": 1,
   "id": "261d067c",
   "metadata": {},
   "outputs": [
    {
     "name": "stdout",
     "output_type": "stream",
     "text": [
      "Helllloooo!!!\n",
      "None\n"
     ]
    }
   ],
   "source": [
    "# Higher Order Functions\n",
    "# A function that accepts a function as a parameter or a function that returns a function\n",
    "# Example: map(), reduce(), filter()\n",
    "\n",
    "def greet(func):\n",
    "    func()\n",
    "    \n",
    "def hello():\n",
    "    print('Helllloooo!!!')\n",
    "    \n",
    "print(greet(hello))"
   ]
  },
  {
   "cell_type": "code",
   "execution_count": 6,
   "id": "060cefe9",
   "metadata": {},
   "outputs": [
    {
     "name": "stdout",
     "output_type": "stream",
     "text": [
      "Byeeeee!!!!!\n",
      "None\n"
     ]
    }
   ],
   "source": [
    "def later():\n",
    "    def bye():\n",
    "        print('Byeeeee!!!!!')\n",
    "    return bye()\n",
    "\n",
    "print(later())"
   ]
  },
  {
   "cell_type": "code",
   "execution_count": 16,
   "id": "6c3eef11",
   "metadata": {},
   "outputs": [
    {
     "name": "stdout",
     "output_type": "stream",
     "text": [
      "********\n",
      "Hi!!!!!\n",
      "********\n"
     ]
    }
   ],
   "source": [
    "# Decorators: They supercharges a function.\n",
    "# They allow us to wrap another function in order to extend the behaviour of the wrapped function, without permanently modifying it.\n",
    "\n",
    "def my_decorator(func):\n",
    "    def wrap_func():\n",
    "        print('********')\n",
    "        func()\n",
    "        print('********')\n",
    "    return wrap_func\n",
    "\n",
    "@my_decorator\n",
    "def hi():\n",
    "    print('Hi!!!!!')\n",
    "    \n",
    "hi()"
   ]
  },
  {
   "cell_type": "code",
   "execution_count": 21,
   "id": "540d3d2d",
   "metadata": {},
   "outputs": [
    {
     "name": "stdout",
     "output_type": "stream",
     "text": [
      "********\n",
      "********\n",
      "Hi!!!!!\n",
      "********\n",
      "********\n"
     ]
    }
   ],
   "source": [
    "# Underneath the hood\n",
    "hi2 = my_decorator(hi)\n",
    "hi2()"
   ]
  },
  {
   "cell_type": "code",
   "execution_count": 24,
   "id": "bdbd66c8",
   "metadata": {},
   "outputs": [
    {
     "name": "stdout",
     "output_type": "stream",
     "text": [
      "********\n",
      "Hiiii!!!! :)\n",
      "********\n"
     ]
    }
   ],
   "source": [
    "# Decorator with parameter\n",
    "def another_decorator(func):\n",
    "    def wrap_func(x, y):\n",
    "        print('********')\n",
    "        func(x, y)\n",
    "        print('********')\n",
    "    return wrap_func\n",
    "\n",
    "@another_decorator\n",
    "def hi(greeting, emoji):\n",
    "    print(greeting, emoji)\n",
    "    \n",
    "hi('Hiiii!!!!', ':)')"
   ]
  },
  {
   "cell_type": "code",
   "execution_count": 31,
   "id": "03f28737",
   "metadata": {},
   "outputs": [
    {
     "name": "stdout",
     "output_type": "stream",
     "text": [
      "Took: 0.0038199424743652344 sec\n"
     ]
    }
   ],
   "source": [
    "# Performance Decorator\n",
    "from time import time\n",
    "\n",
    "def performance(fn):\n",
    "    def wrapper(*args, **kwargs):\n",
    "        t1 = time()\n",
    "        result = fn(*args, **kwargs)\n",
    "        t2 = time()\n",
    "        print(f'Took: {t2-t1} sec')\n",
    "        return result\n",
    "    return wrapper\n",
    "\n",
    "@performance\n",
    "def long_time():\n",
    "    for i in range(10000):\n",
    "        i*5\n",
    "\n",
    "long_time()"
   ]
  }
 ],
 "metadata": {
  "kernelspec": {
   "display_name": "Python 3 (ipykernel)",
   "language": "python",
   "name": "python3"
  },
  "language_info": {
   "codemirror_mode": {
    "name": "ipython",
    "version": 3
   },
   "file_extension": ".py",
   "mimetype": "text/x-python",
   "name": "python",
   "nbconvert_exporter": "python",
   "pygments_lexer": "ipython3",
   "version": "3.10.8"
  }
 },
 "nbformat": 4,
 "nbformat_minor": 5
}
