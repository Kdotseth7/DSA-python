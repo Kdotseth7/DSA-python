{
 "cells": [
  {
   "cell_type": "code",
   "execution_count": 10,
   "id": "b55f709e",
   "metadata": {},
   "outputs": [
    {
     "name": "stdout",
     "output_type": "stream",
     "text": [
      "['k', 'u', 's', 'h', 'a', 'g', 'r', 'a']\n",
      "[0, 2, 4, 6, 8, 10, 12, 14, 16, 18, 20, 22, 24, 26, 28, 30, 32, 34, 36, 38, 40, 42, 44, 46, 48, 50, 52, 54, 56, 58, 60, 62, 64, 66, 68, 70, 72, 74, 76, 78, 80, 82, 84, 86, 88, 90, 92, 94, 96, 98]\n"
     ]
    }
   ],
   "source": [
    "# List Comprehension\n",
    "# my_list = [param for param in iterable]\n",
    "my_list = [char for char in 'kushagra']\n",
    "print(my_list)\n",
    "\n",
    "# my_list = [param for param in iterable conditional]\n",
    "my_list = [i for i in range(0, 100) if i % 2 == 0]\n",
    "print(my_list)"
   ]
  },
  {
   "cell_type": "code",
   "execution_count": 12,
   "id": "0aa4ac14",
   "metadata": {},
   "outputs": [
    {
     "name": "stdout",
     "output_type": "stream",
     "text": [
      "{'a', 's', 'h', 'r', 'k', 'g', 'u'}\n",
      "{0, 2, 4, 6, 8, 10, 12, 14, 16, 18, 20, 22, 24, 26, 28, 30, 32, 34, 36, 38, 40, 42, 44, 46, 48, 50, 52, 54, 56, 58, 60, 62, 64, 66, 68, 70, 72, 74, 76, 78, 80, 82, 84, 86, 88, 90, 92, 94, 96, 98}\n"
     ]
    }
   ],
   "source": [
    "# Set Comprehension\n",
    "# my_set = {param for param in iterable}\n",
    "my_set = {char for char in 'kushagra'}\n",
    "print(my_set)\n",
    "\n",
    "# my_set = {param for param in iterable conditional}\n",
    "my_set = {i for i in range(0, 100) if i % 2 == 0}\n",
    "print(my_set)"
   ]
  },
  {
   "cell_type": "code",
   "execution_count": 16,
   "id": "2cf4122f",
   "metadata": {},
   "outputs": [
    {
     "name": "stdout",
     "output_type": "stream",
     "text": [
      "{'a': 1, 'b': 4, 'c': 9}\n",
      "{'a': 1, 'c': 9}\n"
     ]
    }
   ],
   "source": [
    "# Dictionary Comprehension\n",
    "sample_dict = {'a': 1, 'b': 2, 'c': 3}\n",
    "\n",
    "# my_dict = [key:value for key, value in iterable]\n",
    "my_dict = {k:v**2 for k, v in sample_dict.items()}\n",
    "print(my_dict)\n",
    "\n",
    "# my_dict = {key:value for key, value in iterable conditional}\n",
    "my_dict = {k:v**2 for k, v in sample_dict.items() if v % 2 !=0}\n",
    "print(my_dict)"
   ]
  }
 ],
 "metadata": {
  "kernelspec": {
   "display_name": "Python 3 (ipykernel)",
   "language": "python",
   "name": "python3"
  },
  "language_info": {
   "codemirror_mode": {
    "name": "ipython",
    "version": 3
   },
   "file_extension": ".py",
   "mimetype": "text/x-python",
   "name": "python",
   "nbconvert_exporter": "python",
   "pygments_lexer": "ipython3",
   "version": "3.10.8"
  }
 },
 "nbformat": 4,
 "nbformat_minor": 5
}
