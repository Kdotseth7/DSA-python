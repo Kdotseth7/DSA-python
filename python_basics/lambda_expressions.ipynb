{
 "cells": [
  {
   "cell_type": "code",
   "execution_count": 3,
   "id": "c3e45787",
   "metadata": {},
   "outputs": [
    {
     "name": "stdout",
     "output_type": "stream",
     "text": [
      "[2, 4, 6]\n",
      "[1, 3]\n",
      "6\n"
     ]
    }
   ],
   "source": [
    "# lambda expressions\n",
    "\n",
    "print(list(map(lambda item: item * 2, [1, 2, 3])))\n",
    " \n",
    "print(list(filter(lambda item: item % 2 != 0, [1, 2, 3])))\n",
    "\n",
    "from functools import reduce\n",
    "print(reduce(lambda acc, item: acc + item, [1, 2, 3], 0))"
   ]
  }
 ],
 "metadata": {
  "kernelspec": {
   "display_name": "Python 3 (ipykernel)",
   "language": "python",
   "name": "python3"
  },
  "language_info": {
   "codemirror_mode": {
    "name": "ipython",
    "version": 3
   },
   "file_extension": ".py",
   "mimetype": "text/x-python",
   "name": "python",
   "nbconvert_exporter": "python",
   "pygments_lexer": "ipython3",
   "version": "3.10.8"
  }
 },
 "nbformat": 4,
 "nbformat_minor": 5
}
