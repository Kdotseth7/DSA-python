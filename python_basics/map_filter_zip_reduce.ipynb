{
 "cells": [
  {
   "cell_type": "code",
   "execution_count": 1,
   "id": "ae3443d0",
   "metadata": {},
   "outputs": [
    {
     "name": "stdout",
     "output_type": "stream",
     "text": [
      "[2, 4, 6]\n"
     ]
    }
   ],
   "source": [
    "# map(function, iterable)\n",
    "# map() function returns a map object(which is an iterator) of the results after applying the given function to each item of a given iterable (list, tuple etc.)\n",
    "\n",
    "def mul_by_two(item):\n",
    "    return item * 2\n",
    "\n",
    "print(list(map(mul_by_two, [1, 2, 3])))"
   ]
  },
  {
   "cell_type": "code",
   "execution_count": 2,
   "id": "77adc463",
   "metadata": {},
   "outputs": [
    {
     "name": "stdout",
     "output_type": "stream",
     "text": [
      "[1, 3]\n"
     ]
    }
   ],
   "source": [
    "# filter(function, iterable)\n",
    "# filter() function returns an iterator were the items are filtered through a function to test if the item is accepted or not.\n",
    "\n",
    "def only_odd(item):\n",
    "    return item % 2 != 0\n",
    " \n",
    "print(list(filter(only_odd, [1, 2, 3])))"
   ]
  },
  {
   "cell_type": "code",
   "execution_count": 8,
   "id": "9b408873",
   "metadata": {},
   "outputs": [
    {
     "name": "stdout",
     "output_type": "stream",
     "text": [
      "[(1, 'A'), (2, 'B'), (3, 'C')]\n"
     ]
    }
   ],
   "source": [
    "# zip(function, iterable)\n",
    "# zip() function returns a zip object, which is an iterator of tuples where the first item in each passed iterator is paired together, and then the second item \n",
    "# in each passed iterator are paired together etc.\n",
    "# If the passed iterators have different lengths, the iterator with the least items decides the length of the new iterator.\n",
    "\n",
    "list1 = [1, 2, 3]\n",
    "list2 = ['A', 'B', 'C']\n",
    "print(list(zip(list1, list2)))"
   ]
  },
  {
   "cell_type": "code",
   "execution_count": 9,
   "id": "028b0b14",
   "metadata": {},
   "outputs": [
    {
     "name": "stdout",
     "output_type": "stream",
     "text": [
      "6\n"
     ]
    }
   ],
   "source": [
    "# reduce(function, iterable, initializer = None) function is used to apply a particular function passed in its argument to all of the list elements mentioned in the sequence\n",
    "# passed along. This function is defined in “functools” module.\n",
    "\n",
    "from functools import reduce\n",
    "\n",
    "def accumulator(acc, item):\n",
    "    return acc + item\n",
    "    \n",
    "print(reduce(accumulator, [1, 2, 3], 0))"
   ]
  }
 ],
 "metadata": {
  "kernelspec": {
   "display_name": "Python 3 (ipykernel)",
   "language": "python",
   "name": "python3"
  },
  "language_info": {
   "codemirror_mode": {
    "name": "ipython",
    "version": 3
   },
   "file_extension": ".py",
   "mimetype": "text/x-python",
   "name": "python",
   "nbconvert_exporter": "python",
   "pygments_lexer": "ipython3",
   "version": "3.10.8"
  }
 },
 "nbformat": 4,
 "nbformat_minor": 5
}
