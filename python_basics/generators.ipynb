{
 "cells": [
  {
   "cell_type": "code",
   "execution_count": 9,
   "id": "bbfa1ace",
   "metadata": {},
   "outputs": [
    {
     "name": "stdout",
     "output_type": "stream",
     "text": [
      "15\n"
     ]
    }
   ],
   "source": [
    "# Generators\n",
    "\n",
    "def generate(num):\n",
    "    for i in range(num):\n",
    "        yield i * 5\n",
    "        \n",
    "g = generate(10)\n",
    "\n",
    "next(g)\n",
    "next(g)\n",
    "next(g)\n",
    "print(next(g))"
   ]
  }
 ],
 "metadata": {
  "kernelspec": {
   "display_name": "Python 3 (ipykernel)",
   "language": "python",
   "name": "python3"
  },
  "language_info": {
   "codemirror_mode": {
    "name": "ipython",
    "version": 3
   },
   "file_extension": ".py",
   "mimetype": "text/x-python",
   "name": "python",
   "nbconvert_exporter": "python",
   "pygments_lexer": "ipython3",
   "version": "3.10.8"
  }
 },
 "nbformat": 4,
 "nbformat_minor": 5
}
