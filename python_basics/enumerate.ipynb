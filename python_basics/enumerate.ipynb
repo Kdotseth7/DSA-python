{
 "cells": [
  {
   "cell_type": "code",
   "execution_count": 56,
   "metadata": {},
   "outputs": [
    {
     "name": "stdout",
     "output_type": "stream",
     "text": [
      "(0, 'stewie2k')\n",
      "(1, 'trent')\n",
      "(2, 'tarik')\n",
      "(3, 'fns')\n",
      "100 stewie2k\n",
      "101 trent\n",
      "102 tarik\n",
      "103 fns\n"
     ]
    }
   ],
   "source": [
    "# Enumerate\n",
    "list1 = ['stewie2k', 'trent', 'tarik', 'fns']\n",
    "\n",
    "for tup in enumerate(list1):\n",
    "    print(tup)\n",
    "    \n",
    "for count, el in enumerate(list1, 100):\n",
    "    print(count, el)"
   ]
  }
 ],
 "metadata": {
  "kernelspec": {
   "display_name": "pvenv",
   "language": "python",
   "name": "python3"
  },
  "language_info": {
   "codemirror_mode": {
    "name": "ipython",
    "version": 3
   },
   "file_extension": ".py",
   "mimetype": "text/x-python",
   "name": "python",
   "nbconvert_exporter": "python",
   "pygments_lexer": "ipython3",
   "version": "3.10.9"
  },
  "orig_nbformat": 4,
  "vscode": {
   "interpreter": {
    "hash": "c2c87e16e3c5224f19fdcd75f65d952c55b5bf326ebfd42c1280c69b64e015be"
   }
  }
 },
 "nbformat": 4,
 "nbformat_minor": 2
}
