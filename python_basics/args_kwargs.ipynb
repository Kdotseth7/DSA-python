{
 "cells": [
  {
   "cell_type": "code",
   "execution_count": 5,
   "metadata": {},
   "outputs": [
    {
     "name": "stdout",
     "output_type": "stream",
     "text": [
      "apple\n",
      "banana\n",
      "cabbage\n"
     ]
    }
   ],
   "source": [
    "# *args -> used when you dont know how many \"arguments\" will be passed to the function\n",
    "def print_info(*args):\n",
    "    for i in args:\n",
    "        print(i)\n",
    "\n",
    "print_info('apple', 'banana', 'cabbage')"
   ]
  },
  {
   "cell_type": "code",
   "execution_count": 10,
   "metadata": {},
   "outputs": [
    {
     "name": "stdout",
     "output_type": "stream",
     "text": [
      "name : Kushagra\n",
      "course : nlp\n",
      "uni : ucsc\n"
     ]
    }
   ],
   "source": [
    "# *args -> used when you dont know how many \"keyword arguments\" will be passed to the function\n",
    "def print_kvpairs(**kwargs):\n",
    "    for k, v in kwargs.items():\n",
    "        print(k, ':',  v)\n",
    "\n",
    "print_kvpairs(name='Kushagra', course='nlp', uni='ucsc')"
   ]
  }
 ],
 "metadata": {
  "kernelspec": {
   "display_name": "pvenv",
   "language": "python",
   "name": "python3"
  },
  "language_info": {
   "codemirror_mode": {
    "name": "ipython",
    "version": 3
   },
   "file_extension": ".py",
   "mimetype": "text/x-python",
   "name": "python",
   "nbconvert_exporter": "python",
   "pygments_lexer": "ipython3",
   "version": "3.10.9"
  },
  "orig_nbformat": 4,
  "vscode": {
   "interpreter": {
    "hash": "c2c87e16e3c5224f19fdcd75f65d952c55b5bf326ebfd42c1280c69b64e015be"
   }
  }
 },
 "nbformat": 4,
 "nbformat_minor": 2
}
