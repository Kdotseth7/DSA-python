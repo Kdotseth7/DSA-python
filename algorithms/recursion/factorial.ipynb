{
 "cells": [
  {
   "cell_type": "markdown",
   "id": "4b7bf191",
   "metadata": {},
   "source": [
    "# Factorial\n",
    "5! = 5 X 4 X 3 X 2 X 1\n",
    "\n",
    "## TC: O(n)\n",
    "since there are n recursive calls\n",
    "## SC: O(n) \n",
    "since there are n recursive calls to factorial_recursive function. Each call maintains a record on the activation stack"
   ]
  },
  {
   "cell_type": "code",
   "execution_count": 7,
   "id": "b6f5f316",
   "metadata": {},
   "outputs": [],
   "source": [
    "num = 5"
   ]
  },
  {
   "cell_type": "code",
   "execution_count": 8,
   "id": "9339b8e4",
   "metadata": {},
   "outputs": [
    {
     "name": "stdout",
     "output_type": "stream",
     "text": [
      "120\n"
     ]
    }
   ],
   "source": [
    "def factorial_iterative(number):\n",
    "    fact = 1\n",
    "    i = number\n",
    "    while i!=0:\n",
    "        fact = fact * i\n",
    "        i -= 1\n",
    "    return fact\n",
    "\n",
    "print(factorial_iterative(num))"
   ]
  },
  {
   "cell_type": "code",
   "execution_count": 10,
   "id": "f42c3698",
   "metadata": {},
   "outputs": [
    {
     "name": "stdout",
     "output_type": "stream",
     "text": [
      "120\n"
     ]
    }
   ],
   "source": [
    "def factorial_recursive(number):\n",
    "    if number < 2:\n",
    "        return 1\n",
    "    return number * factorial_recursive(number-1)\n",
    "\n",
    "print(factorial_recursive(num))"
   ]
  }
 ],
 "metadata": {
  "kernelspec": {
   "display_name": "Python 3 (ipykernel)",
   "language": "python",
   "name": "python3"
  },
  "language_info": {
   "codemirror_mode": {
    "name": "ipython",
    "version": 3
   },
   "file_extension": ".py",
   "mimetype": "text/x-python",
   "name": "python",
   "nbconvert_exporter": "python",
   "pygments_lexer": "ipython3",
   "version": "3.10.8"
  }
 },
 "nbformat": 4,
 "nbformat_minor": 5
}
