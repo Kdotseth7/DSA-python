{
 "cells": [
  {
   "cell_type": "markdown",
   "id": "c38e7426",
   "metadata": {},
   "source": [
    "# Fibonacci Series\n",
    "Given a number N return the index value of the Fibonacci sequence, where the sequence is:\n",
    "\n",
    "0, 1, 1, 2, 3, 5, 8, 13, 21, 34, 55, 89, 144 ...\n",
    "the pattern of the sequence is that each value is the sum of the 2 previous values, that means that for N=5 → 2+3\n",
    "\n",
    "For example: fibonacci_recursive(6) should return 8"
   ]
  },
  {
   "cell_type": "code",
   "execution_count": 7,
   "id": "b4764b7b",
   "metadata": {},
   "outputs": [],
   "source": [
    "num = 7"
   ]
  },
  {
   "cell_type": "markdown",
   "id": "a4906c3a",
   "metadata": {},
   "source": [
    "## TC: O(n)"
   ]
  },
  {
   "cell_type": "code",
   "execution_count": 8,
   "id": "54b81dd3",
   "metadata": {},
   "outputs": [
    {
     "name": "stdout",
     "output_type": "stream",
     "text": [
      "13\n"
     ]
    }
   ],
   "source": [
    "def fibonacci_iterative(num):\n",
    "    fib = [0, 1]\n",
    "    for i in range(2, num+1):\n",
    "        fib.append(fib[i-1] + fib[i-2])\n",
    "    return fib[num]\n",
    "\n",
    "print(fibonacci_iterative(num))"
   ]
  },
  {
   "cell_type": "markdown",
   "id": "50d5c98d",
   "metadata": {},
   "source": [
    "## TC: O(2^n)"
   ]
  },
  {
   "cell_type": "code",
   "execution_count": 9,
   "id": "2960e6f1",
   "metadata": {},
   "outputs": [
    {
     "name": "stdout",
     "output_type": "stream",
     "text": [
      "13\n"
     ]
    }
   ],
   "source": [
    "def fibonacci_recursive(num):\n",
    "    if num < 2:\n",
    "        return num\n",
    "    return (fibonacci_recursive(num-1) + fibonacci_recursive(num-2))\n",
    "\n",
    "print(fibonacci_recursive(num))"
   ]
  }
 ],
 "metadata": {
  "kernelspec": {
   "display_name": "Python 3 (ipykernel)",
   "language": "python",
   "name": "python3"
  },
  "language_info": {
   "codemirror_mode": {
    "name": "ipython",
    "version": 3
   },
   "file_extension": ".py",
   "mimetype": "text/x-python",
   "name": "python",
   "nbconvert_exporter": "python",
   "pygments_lexer": "ipython3",
   "version": "3.10.8"
  }
 },
 "nbformat": 4,
 "nbformat_minor": 5
}
