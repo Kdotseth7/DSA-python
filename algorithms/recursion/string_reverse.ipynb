{
 "cells": [
  {
   "cell_type": "markdown",
   "id": "3092a921",
   "metadata": {},
   "source": [
    "# T = O(n)\n",
    "# SC = O(1)"
   ]
  },
  {
   "cell_type": "code",
   "execution_count": 6,
   "id": "4691a36c",
   "metadata": {},
   "outputs": [],
   "source": [
    "def string_reverse_iterative(string):\n",
    "    string = list(string)\n",
    "    length = len(string)\n",
    "    j = length - 1\n",
    "    for i in range(int(length/2)):\n",
    "        temp = string[i]\n",
    "        string[i] = string[j]\n",
    "        string[j] = temp\n",
    "        j -= 1\n",
    "    return ''.join(string)"
   ]
  },
  {
   "cell_type": "code",
   "execution_count": 7,
   "id": "41c12e8b",
   "metadata": {},
   "outputs": [
    {
     "name": "stdout",
     "output_type": "stream",
     "text": [
      "argahsuk\n"
     ]
    }
   ],
   "source": [
    "print(string_reverse_iterative('kushagra'))"
   ]
  },
  {
   "cell_type": "code",
   "execution_count": 8,
   "id": "c610d6c7",
   "metadata": {},
   "outputs": [],
   "source": [
    "def string_reverse_recursive(string):\n",
    "    if string == '':\n",
    "        return ''\n",
    "    length = len(string)\n",
    "    return string[length-1] + string_reverse_recursive(string[0:length-1])"
   ]
  },
  {
   "cell_type": "code",
   "execution_count": 9,
   "id": "1bb2ca33",
   "metadata": {},
   "outputs": [
    {
     "name": "stdout",
     "output_type": "stream",
     "text": [
      "argahsuk\n"
     ]
    }
   ],
   "source": [
    "print(string_reverse_recursive('kushagra'))"
   ]
  }
 ],
 "metadata": {
  "kernelspec": {
   "display_name": "Python 3 (ipykernel)",
   "language": "python",
   "name": "python3"
  },
  "language_info": {
   "codemirror_mode": {
    "name": "ipython",
    "version": 3
   },
   "file_extension": ".py",
   "mimetype": "text/x-python",
   "name": "python",
   "nbconvert_exporter": "python",
   "pygments_lexer": "ipython3",
   "version": "3.10.8"
  }
 },
 "nbformat": 4,
 "nbformat_minor": 5
}
