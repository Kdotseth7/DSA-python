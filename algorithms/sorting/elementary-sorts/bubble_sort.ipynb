{
 "cells": [
  {
   "cell_type": "markdown",
   "id": "21e0c801",
   "metadata": {},
   "source": [
    "# TC --> O(n^2)\n",
    "# SC --> O(1)\n",
    "1. No. of passes = n - 1\n",
    "2. No. of comparisons in each pass = n - 1\n",
    "3. Not used in industry, only for educational purposes"
   ]
  },
  {
   "cell_type": "code",
   "execution_count": 46,
   "id": "6cf3d9fe",
   "metadata": {},
   "outputs": [],
   "source": [
    "numbers = [99, 44, 6, 2, 1, 5, 63, 87, 283, 4, 0, 66]"
   ]
  },
  {
   "cell_type": "code",
   "execution_count": 49,
   "id": "ecfd0025",
   "metadata": {},
   "outputs": [],
   "source": [
    "def bubble_sort(arr):\n",
    "    length = len(arr)\n",
    "    for j in range(length-1):\n",
    "        for i in range(length-j-1):\n",
    "            if arr[i] > arr[i+1]:\n",
    "                temp = arr[i]\n",
    "                arr[i] = arr[i+1]\n",
    "                arr[i+1] = temp\n",
    "    return arr"
   ]
  },
  {
   "cell_type": "code",
   "execution_count": 50,
   "id": "52d8bf8b",
   "metadata": {},
   "outputs": [
    {
     "name": "stdout",
     "output_type": "stream",
     "text": [
      "[0, 1, 2, 4, 5, 6, 44, 63, 66, 87, 99, 283]\n"
     ]
    }
   ],
   "source": [
    "print(bubble_sort(numbers))"
   ]
  }
 ],
 "metadata": {
  "kernelspec": {
   "display_name": "Python 3 (ipykernel)",
   "language": "python",
   "name": "python3"
  },
  "language_info": {
   "codemirror_mode": {
    "name": "ipython",
    "version": 3
   },
   "file_extension": ".py",
   "mimetype": "text/x-python",
   "name": "python",
   "nbconvert_exporter": "python",
   "pygments_lexer": "ipython3",
   "version": "3.10.8"
  }
 },
 "nbformat": 4,
 "nbformat_minor": 5
}
