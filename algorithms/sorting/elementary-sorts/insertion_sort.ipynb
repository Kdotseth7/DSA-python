{
 "cells": [
  {
   "cell_type": "markdown",
   "id": "f8c579a2",
   "metadata": {},
   "source": [
    "# TC --> O(n^2)\n",
    "# SC --> O(1)\n",
    "## Video link: https://www.youtube.com/watch?v=nKzEJWbkPbQ\n",
    "        \n",
    "1. Works best when list is almost sorted or small dataset's(less no. of elements in the list)\n",
    "2. Best case TC of almost O(n)\n",
    "3. Approach --> Consider array is divided into 2 parts: Sorted and Unsorted parts\n",
    "4. Similar to the way you arrange a deck of cards"
   ]
  },
  {
   "cell_type": "code",
   "execution_count": 2,
   "id": "0fdc9b6a",
   "metadata": {},
   "outputs": [],
   "source": [
    "numbers = [99, 44, 6, 2, 1, 5, 63, 87, 283, 4, 0]"
   ]
  },
  {
   "cell_type": "code",
   "execution_count": 4,
   "id": "60f678ed",
   "metadata": {},
   "outputs": [],
   "source": [
    "def insertion_sort(arr):\n",
    "    length = len(arr)\n",
    "    for i in range(1, length):\n",
    "        current = arr[i]\n",
    "        j = i - 1\n",
    "        while j >= 0 and arr[j] > current:\n",
    "            arr[j+1] = arr[j]\n",
    "            j -= 1\n",
    "        arr[j+1] = current\n",
    "    return arr"
   ]
  },
  {
   "cell_type": "code",
   "execution_count": 5,
   "id": "2fdd474f",
   "metadata": {},
   "outputs": [
    {
     "name": "stdout",
     "output_type": "stream",
     "text": [
      "[0, 1, 2, 4, 5, 6, 44, 63, 87, 99, 283]\n"
     ]
    }
   ],
   "source": [
    "print(insertion_sort(numbers))"
   ]
  }
 ],
 "metadata": {
  "kernelspec": {
   "display_name": "Python 3 (ipykernel)",
   "language": "python",
   "name": "python3"
  },
  "language_info": {
   "codemirror_mode": {
    "name": "ipython",
    "version": 3
   },
   "file_extension": ".py",
   "mimetype": "text/x-python",
   "name": "python",
   "nbconvert_exporter": "python",
   "pygments_lexer": "ipython3",
   "version": "3.10.8"
  }
 },
 "nbformat": 4,
 "nbformat_minor": 5
}
