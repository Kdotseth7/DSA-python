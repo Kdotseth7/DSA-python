{
 "cells": [
  {
   "cell_type": "markdown",
   "id": "d1efb50c",
   "metadata": {},
   "source": [
    "# TC --> O(n^2)\n",
    "# SC --> O(1)\n",
    "\n",
    "1. Not used in industry, only for educational purposes\n",
    "2. How a naive child will sort an array by swapping smallest element with 1st element and so on"
   ]
  },
  {
   "cell_type": "code",
   "execution_count": 9,
   "id": "1e01fda5",
   "metadata": {},
   "outputs": [],
   "source": [
    "numbers = [99, 44, 6, 2, 1, 5, 63, 87, 283, 4, 0]"
   ]
  },
  {
   "cell_type": "code",
   "execution_count": 12,
   "id": "42de98d4",
   "metadata": {},
   "outputs": [],
   "source": [
    "def selection_sort(arr):\n",
    "    length = len(arr)\n",
    "    for i in range(length):\n",
    "        smallest = arr[i]\n",
    "        loc = i\n",
    "        for j in range(i, length):\n",
    "            if smallest > arr[j]:\n",
    "                smallest = arr[j]\n",
    "                loc = j\n",
    "        temp = arr[i]\n",
    "        arr[i] = smallest\n",
    "        arr[loc] = temp\n",
    "    return arr"
   ]
  },
  {
   "cell_type": "code",
   "execution_count": 13,
   "id": "e84f0bfe",
   "metadata": {},
   "outputs": [
    {
     "name": "stdout",
     "output_type": "stream",
     "text": [
      "[0, 1, 2, 4, 5, 6, 44, 63, 87, 99, 283]\n"
     ]
    }
   ],
   "source": [
    "print(selection_sort(numbers))"
   ]
  }
 ],
 "metadata": {
  "kernelspec": {
   "display_name": "Python 3 (ipykernel)",
   "language": "python",
   "name": "python3"
  },
  "language_info": {
   "codemirror_mode": {
    "name": "ipython",
    "version": 3
   },
   "file_extension": ".py",
   "mimetype": "text/x-python",
   "name": "python",
   "nbconvert_exporter": "python",
   "pygments_lexer": "ipython3",
   "version": "3.10.8"
  }
 },
 "nbformat": 4,
 "nbformat_minor": 5
}
