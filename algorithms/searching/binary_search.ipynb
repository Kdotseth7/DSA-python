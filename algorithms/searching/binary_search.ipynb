{
 "cells": [
  {
   "cell_type": "markdown",
   "id": "275d9fde",
   "metadata": {},
   "source": [
    "# Binary Search"
   ]
  },
  {
   "cell_type": "code",
   "execution_count": 1,
   "id": "88fdecd0",
   "metadata": {},
   "outputs": [],
   "source": [
    "array = [1, 5, 33, 42, 78, 88, 90, 96, 99]"
   ]
  },
  {
   "cell_type": "code",
   "execution_count": 9,
   "id": "7be9126f",
   "metadata": {},
   "outputs": [
    {
     "name": "stdout",
     "output_type": "stream",
     "text": [
      "3\n"
     ]
    }
   ],
   "source": [
    "def binary_search(arr, target):\n",
    "    low = 0\n",
    "    high = len(arr) - 1\n",
    "    mid = None\n",
    "    while low <= high:\n",
    "        mid = int((low + high)/2)\n",
    "        if target < arr[mid]:\n",
    "            high = mid - 1\n",
    "        elif target > arr[mid]:\n",
    "            low = mid + 1\n",
    "        else:\n",
    "            return mid\n",
    "    return -1\n",
    "    \n",
    "print(binary_search(array, 42))"
   ]
  }
 ],
 "metadata": {
  "kernelspec": {
   "display_name": "Python 3 (ipykernel)",
   "language": "python",
   "name": "python3"
  },
  "language_info": {
   "codemirror_mode": {
    "name": "ipython",
    "version": 3
   },
   "file_extension": ".py",
   "mimetype": "text/x-python",
   "name": "python",
   "nbconvert_exporter": "python",
   "pygments_lexer": "ipython3",
   "version": "3.10.8"
  }
 },
 "nbformat": 4,
 "nbformat_minor": 5
}
